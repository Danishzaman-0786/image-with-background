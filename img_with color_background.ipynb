{
  "nbformat": 4,
  "nbformat_minor": 0,
  "metadata": {
    "colab": {
      "provenance": [],
      "authorship_tag": "ABX9TyOgMrLHtcqyq7T7ER9KTM3L",
      "include_colab_link": true
    },
    "kernelspec": {
      "name": "python3",
      "display_name": "Python 3"
    },
    "language_info": {
      "name": "python"
    }
  },
  "cells": [
    {
      "cell_type": "markdown",
      "metadata": {
        "id": "view-in-github",
        "colab_type": "text"
      },
      "source": [
        "<a href=\"https://colab.research.google.com/github/Danishzaman-0786/image-with-background/blob/main/img_with%20color_background.ipynb\" target=\"_parent\"><img src=\"https://colab.research.google.com/assets/colab-badge.svg\" alt=\"Open In Colab\"/></a>"
      ]
    },
    {
      "cell_type": "code",
      "execution_count": 9,
      "metadata": {
        "id": "FxT2gbqR-Vx1"
      },
      "outputs": [],
      "source": [
        "import numpy as np\n",
        "from PIL import Image as img\n",
        "def a(img1,color):\n",
        "  v=img.open(img1)\n",
        "  v1=np.zeros((500,500,3),dtype=np.uint8)\n",
        "  c = {\"red\": 0, \"green\": 1, \"blue\": 2}\n",
        "  color = c[color]\n",
        "  v2=v1[:,:,:]\n",
        "  v2[:,:,color]=255\n",
        "  v3=img.fromarray(v2)\n",
        "  v3=v3.resize(v.size)\n",
        "  v3.paste(v,(0,0),v)\n",
        "  return v3\n",
        "  a(\"pngtree-cute-cartoon-cat-png-image_10004760.png\",'blue')"
      ]
    },
    {
      "cell_type": "code",
      "source": [],
      "metadata": {
        "id": "LhZEhSxc-bFe"
      },
      "execution_count": null,
      "outputs": []
    }
  ]
}